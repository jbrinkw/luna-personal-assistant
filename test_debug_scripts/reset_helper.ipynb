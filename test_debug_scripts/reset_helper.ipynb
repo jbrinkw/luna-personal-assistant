{
 "cells": [
  {
   "cell_type": "code",
   "execution_count": 2,
   "metadata": {},
   "outputs": [],
   "source": [
    "import sys\n",
    "sys.path.append(\"c:/Users/jeremy/Documents/projects/luna/pig\")\n",
    "from reset_db import ResetDB\n",
    "from db_functions import execute_select, get_inventory, get_taste_profile, get_saved_meals, get_meal_ideas\n",
    "resetdb = ResetDB()"
   ]
  },
  {
   "cell_type": "code",
   "execution_count": null,
   "metadata": {},
   "outputs": [],
   "source": [
    "resetdb.reset_all()"
   ]
  },
  {
   "cell_type": "code",
   "execution_count": 3,
   "metadata": {},
   "outputs": [
    {
     "name": "stdout",
     "output_type": "stream",
     "text": [
      "Table 'meals' cleared successfully.\n",
      "✓ Cleared meals\n",
      "✓ Added: Bacon Cheeseburger\n",
      "✓ Added: Sesame Chicken\n",
      "✓ Added: Magic Spaghetti\n",
      "✓ Added: Steak Burrito\n",
      "✓ Added: Breakfast Egg Sandwich\n",
      "✓ Added: Homemade McChicken\n",
      "✓ Added: Chicken Caesar Wrap\n",
      "✓ Added: Turkey and Cheese Sandwich\n",
      "✓ Added: Grilled Cheese Sandwich\n",
      "✓ Added: Quesadilla\n",
      "✓ Added: Mac and Cheese with Bacon\n",
      "✓ Added: Instant Ramen with Egg\n",
      "✓ Added: Bagel with Cream Cheese and Bacon\n",
      "✓ Added: Spaghetti with Meat Sauce\n",
      "✓ Added: Chicken Alfredo\n",
      "✓ Added: Pulled Pork with BBQ\n",
      "✓ Added: Shrimp Scampi\n",
      "✓ Added: Philly Cheesesteak Sliders\n",
      "✓ Added: Chicken Tenders and Fries\n",
      "✓ Added: Beef Tacos\n",
      "✓ Added: Stir-Fry with Pre-Cooked Chicken\n",
      "✓ Added: Pasta with Pesto\n",
      "✓ Added: Sloppy Joes\n"
     ]
    }
   ],
   "source": [
    "resetdb.reset_meals()"
   ]
  },
  {
   "cell_type": "code",
   "execution_count": null,
   "metadata": {},
   "outputs": [],
   "source": [
    "resetdb.clear_individual_table(\"meals\")"
   ]
  },
  {
   "cell_type": "code",
   "execution_count": 10,
   "metadata": {},
   "outputs": [
    {
     "name": "stdout",
     "output_type": "stream",
     "text": [
      "=== MEALS TABLE ===\n",
      "\n",
      "ID: 0\n",
      "Name: Bacon Cheeseburger\n",
      "Prep Time: 20 min\n",
      "Ingredients: Ground beef, bacon, burger bun, extra sharp cheddar, condiments\n",
      "Recipe: Form beef patties, cook to desired doneness; fry bacon; assemble patty with bacon and cheese on bun.\n",
      "\n",
      "ID: 1\n",
      "Name: Sesame Chicken\n",
      "Prep Time: 25 min\n",
      "Ingredients: Chicken pieces, sesame seeds, soy sauce, garlic, ginger, cornstarch\n",
      "Recipe: Marinate chicken in soy sauce, garlic, and ginger; coat lightly with cornstarch; stir-fry until cooked; sprinkle sesame seeds.\n",
      "\n",
      "ID: 2\n",
      "Name: Magic Spaghetti\n",
      "Prep Time: 15 min\n",
      "Ingredients: Spaghetti, parmesan cheese, butter, olive oil, pepper\n",
      "Recipe: Cook spaghetti; toss with butter, olive oil, parmesan, and pepper.\n",
      "\n",
      "ID: 3\n",
      "Name: Steak Burrito\n",
      "Prep Time: 25 min\n",
      "Ingredients: Thin-sliced steak, white rice, black beans, tortilla, extra cheese, mayo\n",
      "Recipe: Sauté steak strips; warm rice and beans; layer steak, rice, beans, cheese, and mayo on tortilla; roll up.\n",
      "\n",
      "ID: 4\n",
      "Name: Breakfast Egg Sandwich\n",
      "Prep Time: 15 min\n",
      "Ingredients: Eggs, cheese, turkey sausage patties, sourdough bread, mayo\n",
      "Recipe: Scramble eggs with cheese; heat sausage patties; toast sourdough with mayo; assemble sandwich.\n",
      "\n",
      "ID: 5\n",
      "Name: Homemade McChicken\n",
      "Prep Time: 20 min\n",
      "Ingredients: Chicken patties, burger buns, mayo\n",
      "Recipe: Cook chicken patties; toast buns with a bit of mayo; place patty between buns.\n",
      "\n",
      "ID: 6\n",
      "Name: Chicken Caesar Wrap\n",
      "Prep Time: 15 min\n",
      "Ingredients: Pre-cooked chicken, tortilla, shredded cheese, Caesar dressing\n",
      "Recipe: Layer sliced chicken, cheese, and Caesar dressing in tortilla; roll tightly.\n",
      "\n",
      "ID: 7\n",
      "Name: Turkey and Cheese Sandwich\n",
      "Prep Time: 10 min\n",
      "Ingredients: Sliced turkey, cheese, toasted sourdough or bagel, mayo\n",
      "Recipe: Layer turkey and cheese on toasted bread/bagel with mayo.\n",
      "\n",
      "ID: 8\n",
      "Name: Grilled Cheese Sandwich\n",
      "Prep Time: 10 min\n",
      "Ingredients: Bread, butter, sliced cheese\n",
      "Recipe: Butter bread on outside, add cheese in between; grill until golden.\n",
      "\n",
      "ID: 9\n",
      "Name: Quesadilla\n",
      "Prep Time: 15 min\n",
      "Ingredients: Tortilla, cheese, pre-cooked chicken or turkey\n",
      "Recipe: Fill tortilla with cheese and meat; cook in pan until tortilla is crispy and cheese melts.\n",
      "\n",
      "ID: 10\n",
      "Name: Mac and Cheese with Bacon\n",
      "Prep Time: 15 min\n",
      "Ingredients: Boxed mac and cheese, bacon bits\n",
      "Recipe: Prepare mac and cheese per box directions; stir in cooked bacon bits.\n",
      "\n",
      "ID: 11\n",
      "Name: Instant Ramen with Egg\n",
      "Prep Time: 10 min\n",
      "Ingredients: Instant ramen, egg, water\n",
      "Recipe: Cook ramen as directed; add a boiled or poached egg before serving.\n",
      "\n",
      "ID: 12\n",
      "Name: Bagel with Cream Cheese and Bacon\n",
      "Prep Time: 10 min\n",
      "Ingredients: Bagel, cream cheese, bacon\n",
      "Recipe: Toast bagel; spread cream cheese; add cooked bacon.\n",
      "\n",
      "ID: 13\n",
      "Name: Spaghetti with Meat Sauce\n",
      "Prep Time: 25 min\n",
      "Ingredients: Spaghetti, ground beef, non-chunky tomato sauce, parmesan\n",
      "Recipe: Cook spaghetti; brown ground beef; mix with tomato sauce; serve over pasta with parmesan.\n",
      "\n",
      "ID: 14\n",
      "Name: Chicken Alfredo\n",
      "Prep Time: 20 min\n",
      "Ingredients: Pasta, store-bought Alfredo sauce, pre-cooked chicken\n",
      "Recipe: Cook pasta; heat Alfredo sauce and chicken together; combine with pasta.\n",
      "\n",
      "ID: 15\n",
      "Name: Pulled Pork with BBQ\n",
      "Prep Time: 25 min\n",
      "Ingredients: Pre-cooked pulled pork, BBQ sauce, instant mashed potatoes or rice\n",
      "Recipe: Heat pulled pork with BBQ sauce; serve with instant mashed potatoes or rice.\n",
      "\n",
      "ID: 16\n",
      "Name: Shrimp Scampi\n",
      "Prep Time: 15 min\n",
      "Ingredients: Pre-cooked shrimp, pasta, garlic, butter, olive oil, parsley\n",
      "Recipe: Cook pasta; sauté garlic in butter and olive oil; add shrimp; toss with pasta and parsley.\n",
      "\n",
      "ID: 17\n",
      "Name: Philly Cheesesteak Sliders\n",
      "Prep Time: 25 min\n",
      "Ingredients: Thinly sliced steak, slider buns, cheese, onions\n",
      "Recipe: Sauté steak and onions; place mixture and cheese on slider buns; heat until cheese melts.\n",
      "\n",
      "ID: 18\n",
      "Name: Chicken Tenders and Fries\n",
      "Prep Time: 25 min\n",
      "Ingredients: Pre-breaded chicken tenders, frozen fries\n",
      "Recipe: Bake chicken tenders and fries as per package instructions; serve together.\n",
      "\n",
      "ID: 19\n",
      "Name: Beef Tacos\n",
      "Prep Time: 20 min\n",
      "Ingredients: Ground beef, taco seasoning, taco shells, cheese\n",
      "Recipe: Cook beef with taco seasoning; fill taco shells with beef and top with cheese.\n",
      "\n",
      "ID: 20\n",
      "Name: Stir-Fry with Pre-Cooked Chicken\n",
      "Prep Time: 20 min\n",
      "Ingredients: Pre-cooked chicken strips, frozen mixed vegetables, soy sauce, microwaveable rice\n",
      "Recipe: Stir-fry chicken and vegetables with soy sauce; serve over heated rice.\n",
      "\n",
      "ID: 21\n",
      "Name: Pasta with Pesto\n",
      "Prep Time: 15 min\n",
      "Ingredients: Pasta, store-bought pesto, parmesan cheese\n",
      "Recipe: Cook pasta; toss with pesto and sprinkle parmesan on top.\n",
      "\n",
      "ID: 22\n",
      "Name: Sloppy Joes\n",
      "Prep Time: 20 min\n",
      "Ingredients: Ground beef, sloppy joe sauce, hamburger buns\n",
      "Recipe: Brown ground beef; mix with sloppy joe sauce; spoon onto hamburger buns.\n"
     ]
    }
   ],
   "source": [
    "print(\"=== MEALS TABLE ===\")\n",
    "meals = execute_select(\"SELECT * FROM meals ORDER BY id\")\n",
    "for meal in meals:\n",
    "    print(f\"\\nID: {meal[0]}\")\n",
    "    print(f\"Name: {meal[1]}\")\n",
    "    print(f\"Prep Time: {meal[2]}\")\n",
    "    print(f\"Ingredients: {meal[3]}\")\n",
    "    print(f\"Recipe: {meal[4]}\")"
   ]
  },
  {
   "cell_type": "code",
   "execution_count": null,
   "metadata": {},
   "outputs": [],
   "source": [
    "resetdb.reset_taste_profile()"
   ]
  },
  {
   "cell_type": "code",
   "execution_count": null,
   "metadata": {},
   "outputs": [],
   "source": [
    "resetdb.clear_individual_table(\"taste_profile\")"
   ]
  },
  {
   "cell_type": "code",
   "execution_count": null,
   "metadata": {},
   "outputs": [],
   "source": [
    "print(\"=== TASTE PROFILE ===\")\n",
    "profile = get_taste_profile()\n",
    "print(profile)"
   ]
  },
  {
   "cell_type": "code",
   "execution_count": 5,
   "metadata": {},
   "outputs": [
    {
     "name": "stdout",
     "output_type": "stream",
     "text": [
      "Table 'inventory' cleared successfully.\n",
      "✓ Cleared inventory\n",
      "✓ Added: Ground beef\n",
      "✓ Added: Bacon\n",
      "✓ Added: Sesame seeds\n",
      "✓ Added: Soy sauce\n",
      "✓ Added: Garlic\n",
      "✓ Added: Ginger\n",
      "✓ Added: Spaghetti\n",
      "✓ Added: Parmesan cheese\n",
      "✓ Added: Butter\n",
      "✓ Added: Olive oil\n",
      "✓ Added: Thin-sliced steak\n",
      "✓ Added: White rice\n",
      "✓ Added: Black beans\n",
      "✓ Added: Tortilla\n",
      "✓ Added: Mayo\n",
      "✓ Added: Eggs\n",
      "✓ Added: Sourdough bread\n",
      "✓ Added: Pre-cooked chicken\n",
      "✓ Added: Shredded cheese\n",
      "✓ Added: Caesar dressing\n",
      "✓ Added: Instant ramen\n",
      "✓ Added: Non-chunky tomato sauce\n",
      "✓ Added: Pre-cooked pulled pork\n",
      "✓ Added: BBQ sauce\n",
      "✓ Added: Instant mashed potatoes\n",
      "✓ Added: Pre-cooked shrimp\n",
      "✓ Added: Onions\n",
      "✓ Added: Taco seasoning\n",
      "✓ Added: Taco shells\n",
      "✓ Added: Frozen mixed vegetables\n",
      "✓ Added: Microwaveable rice\n",
      "✓ Added: Rotisserie chicken\n",
      "✓ Added: Salmon\n",
      "✓ Added: Tortilla chips\n",
      "✓ Added: Whole milk\n",
      "✓ Added: Frozen waffles\n",
      "✓ Added: Microwave burrito\n",
      "✓ Added: Carrots\n"
     ]
    }
   ],
   "source": [
    "resetdb.reset_inventory()"
   ]
  },
  {
   "cell_type": "code",
   "execution_count": 7,
   "metadata": {},
   "outputs": [
    {
     "name": "stdout",
     "output_type": "stream",
     "text": [
      "Table 'inventory' cleared successfully.\n",
      "✓ Cleared inventory\n"
     ]
    }
   ],
   "source": [
    "resetdb.clear_individual_table(\"inventory\")"
   ]
  },
  {
   "cell_type": "code",
   "execution_count": 6,
   "metadata": {},
   "outputs": [
    {
     "name": "stdout",
     "output_type": "stream",
     "text": [
      "=== INVENTORY ===\n",
      "Bacon: 1 (Expiration: 2025-03-13)\n",
      "BBQ sauce: 1 (Expiration: 2025-03-13)\n",
      "Black beans: 1 (Expiration: 2025-03-13)\n",
      "Butter: 1 (Expiration: 2025-03-13)\n",
      "Caesar dressing: 1 (Expiration: 2025-03-13)\n",
      "Carrots: 1 (Expiration: 2025-03-13)\n",
      "Eggs: 1 (Expiration: 2025-03-13)\n",
      "Frozen mixed vegetables: 1 (Expiration: 2025-03-13)\n",
      "Frozen waffles: 1 (Expiration: 2025-03-13)\n",
      "Garlic: 1 (Expiration: 2025-03-13)\n",
      "Ginger: 1 (Expiration: 2025-03-13)\n",
      "Ground beef: 1 (Expiration: 2025-03-13)\n",
      "Instant mashed potatoes: 1 (Expiration: 2025-03-13)\n",
      "Instant ramen: 1 (Expiration: 2025-03-13)\n",
      "Mayo: 1 (Expiration: 2025-03-13)\n",
      "Microwaveable rice: 1 (Expiration: 2025-03-13)\n",
      "Microwave burrito: 1 (Expiration: 2025-03-13)\n",
      "Non-chunky tomato sauce: 1 (Expiration: 2025-03-13)\n",
      "Olive oil: 1 (Expiration: 2025-03-13)\n",
      "Onions: 1 (Expiration: 2025-03-13)\n",
      "Parmesan cheese: 1 (Expiration: 2025-03-13)\n",
      "Pre-cooked chicken: 1 (Expiration: 2025-03-13)\n",
      "Pre-cooked pulled pork: 1 (Expiration: 2025-03-13)\n",
      "Pre-cooked shrimp: 1 (Expiration: 2025-03-13)\n",
      "Rotisserie chicken: 1 (Expiration: 2025-03-13)\n",
      "Salmon: 1 (Expiration: 2025-03-13)\n",
      "Sesame seeds: 1 (Expiration: 2025-03-13)\n",
      "Shredded cheese: 1 (Expiration: 2025-03-13)\n",
      "Sourdough bread: 1 (Expiration: 2025-03-13)\n",
      "Soy sauce: 1 (Expiration: 2025-03-13)\n",
      "Spaghetti: 1 (Expiration: 2025-03-13)\n",
      "Taco seasoning: 1 (Expiration: 2025-03-13)\n",
      "Taco shells: 1 (Expiration: 2025-03-13)\n",
      "Thin-sliced steak: 1 (Expiration: 2025-03-13)\n",
      "Tortilla: 1 (Expiration: 2025-03-13)\n",
      "Tortilla chips: 1 (Expiration: 2025-03-13)\n",
      "White rice: 1 (Expiration: 2025-03-13)\n",
      "Whole milk: 1 (Expiration: 2025-03-13)\n"
     ]
    }
   ],
   "source": [
    "print(\"=== INVENTORY ===\")\n",
    "inventory = get_inventory()\n",
    "print(inventory)"
   ]
  },
  {
   "cell_type": "code",
   "execution_count": null,
   "metadata": {},
   "outputs": [],
   "source": [
    "resetdb.reset_meal_ideas()"
   ]
  },
  {
   "cell_type": "code",
   "execution_count": null,
   "metadata": {},
   "outputs": [],
   "source": [
    "resetdb.clear_individual_table(\"new_meal_ideas\")"
   ]
  },
  {
   "cell_type": "code",
   "execution_count": 8,
   "metadata": {},
   "outputs": [
    {
     "name": "stdout",
     "output_type": "stream",
     "text": [
      "=== MEAL IDEAS ===\n",
      "\n",
      "ID: 0\n",
      "Name: Garlic Salmon Pasta\n",
      "Prep Time: 30 minutes\n",
      "Ingredients: salmon, spaghetti, garlic, olive oil, parmesan cheese\n",
      "Recipe: 1. Cook spaghetti according to package instructions. \n",
      "2. In a pan, heat olive oil and garlic, then add salmon and cook until done. \n",
      "3. Combine cooked pasta with salmon, garlic, and olive oil. \n",
      "4. Serve with grated parmesan cheese on top.\n",
      "\n",
      "ID: 1\n",
      "Name: Bacon Egg Sourdough Toast\n",
      "Prep Time: 20 minutes\n",
      "Ingredients: sourdough bread, eggs, bacon, shredded cheese, butter\n",
      "Recipe: 1. Cook bacon until crispy, then scramble eggs. \n",
      "2. Toast sourdough bread slices. \n",
      "3. Assemble by placing scrambled eggs and bacon on top of the toast. \n",
      "4. Sprinkle shredded cheese and melt under broiler. \n",
      "5. Serve hot with a side of butter.\n",
      "\n",
      "ID: 2\n",
      "Name: Sesame Ginger Chicken Wrap\n",
      "Prep Time: 25 minutes\n",
      "Ingredients: rotisserie chicken, tortilla, garlic, ginger, sesame seeds, soy sauce, shredded cheese\n",
      "Recipe: 1. Shred rotisserie chicken and mix with garlic, ginger, sesame seeds, and soy sauce. \n",
      "2. Warm tortilla and fill with the chicken mixture. \n",
      "3. Sprinkle shredded cheese on top. \n",
      "4. Roll up the wrap and enjoy.\n",
      "\n",
      "ID: 3\n",
      "Name: Cheesy Chicken Tortilla Bake\n",
      "Prep Time: 40 minutes\n",
      "Ingredients: pre-cooked chicken, tortilla, non-chunky tomato sauce, shredded cheese, onions\n",
      "Recipe: 1. Preheat oven to 350°F. \n",
      "2. Layer tortillas, chicken, tomato sauce, onions, and shredded cheese in a baking dish. \n",
      "3. Repeat layers and top with more cheese. \n",
      "4. Bake for 25-30 minutes until cheese is melted and bubbly. \n",
      "5. Serve hot.\n",
      "\n",
      "ID: 4\n",
      "Name: Bacon Egg Fried Rice\n",
      "Prep Time: 25 minutes\n",
      "Ingredients: Bacon, Eggs, White rice, Onion, Garlic, Frozen mixed vegetables, Soy sauce, Olive oil\n",
      "Recipe: 1. Cook bacon until crispy, then set aside. \n",
      "2. In the same pan, sauté onions and garlic. \n",
      "3. Add cooked white rice and frozen mixed vegetables. \n",
      "4. Push rice to the side, scramble eggs, and mix in. \n",
      "5. Crumble bacon and add to the rice. \n",
      "6. Season with soy sauce and serve hot.\n",
      "\n",
      "ID: 5\n",
      "Name: Chicken Tomato Garlic Pasta\n",
      "Prep Time: 30 minutes\n",
      "Ingredients: Rotisserie chicken, Spaghetti, Non-chunky tomato sauce, Garlic, Olive oil, Parmesan cheese\n",
      "Recipe: 1. Cook spaghetti according to package instructions. \n",
      "2. In a pan, heat olive oil and garlic, then add shredded rotisserie chicken. \n",
      "3. Pour in tomato sauce and simmer. \n",
      "4. Toss cooked pasta in the sauce. \n",
      "5. Serve with grated parmesan cheese on top.\n",
      "\n",
      "ID: 6\n",
      "Name: Ginger Soy Salmon Stir-Fry\n",
      "Prep Time: 25 minutes\n",
      "Ingredients: Salmon, Frozen mixed vegetables, Onion, Garlic, Ginger, Soy sauce, Microwaveable rice\n",
      "Recipe: 1. In a pan, stir-fry salmon, vegetables, onion, garlic, and ginger. \n",
      "2. Add soy sauce and cook until salmon is done. \n",
      "3. Microwave rice according to package instructions. \n",
      "4. Serve stir-fry over rice.\n",
      "\n",
      "ID: 7\n",
      "Name: Steak Cheddar Sourdough Melt\n",
      "Prep Time: 35 minutes\n",
      "Ingredients: Thin-sliced steak, Sourdough bread, Shredded cheese, Onion, Butter, Mayo\n",
      "Recipe: 1. Cook steak slices in a pan until desired doneness. \n",
      "2. Butter sourdough bread slices and toast. \n",
      "3. Spread mayo on one side of the bread. \n",
      "4. Layer steak, shredded cheese, and onions on the other side. \n",
      "5. Close the sandwich and grill until cheese melts. \n",
      "6. Serve hot.\n",
      "\n",
      "ID: 8\n",
      "Name: Shrimp and Bacon Carbonara\n",
      "Prep Time: 30 minutes\n",
      "Ingredients: Pre-cooked shrimp, Bacon, Eggs, Spaghetti, Parmesan cheese, Olive oil, Garlic\n",
      "Recipe: 1. Cook bacon until crispy, then set aside. \n",
      "2. In the same pan, sauté garlic and shrimp. \n",
      "3. Cook spaghetti according to package instructions. \n",
      "4. Whisk eggs and parmesan cheese in a bowl. \n",
      "5. Drain pasta and toss with egg mixture. \n",
      "6. Add shrimp and crumbled bacon. \n",
      "7. Serve hot.\n"
     ]
    }
   ],
   "source": [
    "print(\"=== MEAL IDEAS ===\")\n",
    "ideas = execute_select(\"SELECT * FROM new_meal_ideas ORDER BY id\")\n",
    "for idea in ideas:\n",
    "    print(f\"\\nID: {idea[0]}\")\n",
    "    print(f\"Name: {idea[1]}\")\n",
    "    print(f\"Prep Time: {idea[2]}\")\n",
    "    print(f\"Ingredients: {idea[3]}\")\n",
    "    print(f\"Recipe: {idea[4]}\")"
   ]
  },
  {
   "cell_type": "code",
   "execution_count": 4,
   "metadata": {},
   "outputs": [
    {
     "name": "stdout",
     "output_type": "stream",
     "text": [
      "Table 'daily_notes' cleared successfully.\n",
      "✓ Cleared daily_notes\n",
      "✓ Daily notes table created\n",
      "✓ Daily notes populated for 2025\n"
     ]
    }
   ],
   "source": [
    "resetdb.reset_daily_notes()"
   ]
  },
  {
   "cell_type": "code",
   "execution_count": null,
   "metadata": {},
   "outputs": [],
   "source": [
    "resetdb.clear_individual_table(\"daily_notes\")"
   ]
  },
  {
   "cell_type": "code",
   "execution_count": null,
   "metadata": {},
   "outputs": [],
   "source": [
    "resetdb.clear_individual_table(\"meal_ideas_in_stock\")"
   ]
  },
  {
   "cell_type": "code",
   "execution_count": null,
   "metadata": {},
   "outputs": [],
   "source": [
    "print(\"=== MEAL IDEAS IN STOCK ===\")\n",
    "in_stock = execute_select(\"SELECT * FROM meal_ideas_in_stock\")\n",
    "print(\"Meal IDs in stock:\", [item[0] for item in in_stock])"
   ]
  },
  {
   "cell_type": "code",
   "execution_count": null,
   "metadata": {},
   "outputs": [],
   "source": [
    "resetdb.clear_individual_table(\"saved_meals_in_stock\")"
   ]
  },
  {
   "cell_type": "code",
   "execution_count": null,
   "metadata": {},
   "outputs": [],
   "source": [
    "print(\"=== SAVED MEALS IN STOCK ===\")\n",
    "saved_in_stock = execute_select(\"SELECT * FROM saved_meals_in_stock\")\n",
    "print(\"Saved meal IDs in stock:\", [item[0] for item in saved_in_stock])"
   ]
  },
  {
   "cell_type": "code",
   "execution_count": null,
   "metadata": {},
   "outputs": [],
   "source": []
  },
  {
   "cell_type": "code",
   "execution_count": null,
   "metadata": {},
   "outputs": [],
   "source": []
  },
  {
   "cell_type": "code",
   "execution_count": null,
   "metadata": {},
   "outputs": [],
   "source": []
  }
 ],
 "metadata": {
  "kernelspec": {
   "display_name": "luna",
   "language": "python",
   "name": "python3"
  },
  "language_info": {
   "codemirror_mode": {
    "name": "ipython",
    "version": 3
   },
   "file_extension": ".py",
   "mimetype": "text/x-python",
   "name": "python",
   "nbconvert_exporter": "python",
   "pygments_lexer": "ipython3",
   "version": "3.11.11"
  }
 },
 "nbformat": 4,
 "nbformat_minor": 2
}
